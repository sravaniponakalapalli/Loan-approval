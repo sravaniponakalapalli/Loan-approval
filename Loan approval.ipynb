{
 "cells": [
  {
   "cell_type": "markdown",
   "id": "20ce7d82-1aa3-42e9-8c68-44988c002cdc",
   "metadata": {},
   "source": [
    "# Loan Approval Prediction Using Machine Learning"
   ]
  },
  {
   "cell_type": "markdown",
   "id": "2bbc14c9-3aa7-4d1b-8be9-6404fe8811be",
   "metadata": {},
   "source": [
    "### Downloading and Exploring a Kaggle Dataset"
   ]
  },
  {
   "cell_type": "code",
   "execution_count": 2,
   "id": "d985b552-fac9-4891-8bee-7b4b5c3c2581",
   "metadata": {},
   "outputs": [],
   "source": [
    "import opendatasets as od"
   ]
  },
  {
   "cell_type": "code",
   "execution_count": 3,
   "id": "df221584-b3fe-4ddd-b485-e786e704a16b",
   "metadata": {},
   "outputs": [],
   "source": [
    "link= \"https://www.kaggle.com/datasets/bhavikjikadara/loan-status-prediction\""
   ]
  },
  {
   "cell_type": "code",
   "execution_count": 4,
   "id": "959f7d23-4fab-4358-b71d-3370e0996725",
   "metadata": {},
   "outputs": [
    {
     "name": "stdout",
     "output_type": "stream",
     "text": [
      "Skipping, found downloaded files in \".\\loan-status-prediction\" (use force=True to force download)\n"
     ]
    }
   ],
   "source": [
    "od.download(link)"
   ]
  },
  {
   "cell_type": "code",
   "execution_count": 5,
   "id": "d7542343-3afc-4c10-bf44-9a9feec1768c",
   "metadata": {},
   "outputs": [],
   "source": [
    "link= \"loan-status-prediction\""
   ]
  },
  {
   "cell_type": "code",
   "execution_count": 6,
   "id": "351a0a3c-016b-4611-abb3-8efc0681768a",
   "metadata": {},
   "outputs": [],
   "source": [
    "import os"
   ]
  },
  {
   "cell_type": "code",
   "execution_count": 7,
   "id": "bbf27b7d-a86d-4d15-8c32-1a4de2d4f5a9",
   "metadata": {},
   "outputs": [
    {
     "data": {
      "text/plain": [
       "['.ipynb_checkpoints', 'loan_data.csv']"
      ]
     },
     "execution_count": 7,
     "metadata": {},
     "output_type": "execute_result"
    }
   ],
   "source": [
    "os.listdir(link)"
   ]
  },
  {
   "cell_type": "markdown",
   "id": "7b8c7754-db98-4333-a4a9-b0abbe623e5e",
   "metadata": {},
   "source": [
    "### Required Libraries For Loan Approval Prediction Model"
   ]
  },
  {
   "cell_type": "code",
   "execution_count": 8,
   "id": "3872639e-c3bd-4e7e-bad7-e255dbbd4e76",
   "metadata": {},
   "outputs": [],
   "source": [
    "import numpy as np\n",
    "import pandas as pd\n",
    "from sklearn.preprocessing import LabelEncoder\n",
    "from sklearn.model_selection import train_test_split\n",
    "from sklearn.linear_model import LogisticRegression\n",
    "from sklearn import svm\n",
    "from sklearn.metrics import accuracy_score\n",
    "import matplotlib.pyplot as plt\n",
    "%matplotlib inline\n",
    "import seaborn as sns"
   ]
  },
  {
   "cell_type": "markdown",
   "id": "72fcc2a7-cd32-4a6e-901b-d507f0c1cd67",
   "metadata": {},
   "source": [
    "### Data Loading And Preprocessing"
   ]
  },
  {
   "cell_type": "code",
   "execution_count": 9,
   "id": "f310c422-59e4-40a0-a642-5615ff025936",
   "metadata": {},
   "outputs": [],
   "source": [
    "data= pd.read_csv(\"loan-status-prediction/loan_data.csv\")"
   ]
  },
  {
   "cell_type": "code",
   "execution_count": 10,
   "id": "bb54bde4-fabd-412a-8964-17e37ab88434",
   "metadata": {},
   "outputs": [
    {
     "data": {
      "text/html": [
       "<div>\n",
       "<style scoped>\n",
       "    .dataframe tbody tr th:only-of-type {\n",
       "        vertical-align: middle;\n",
       "    }\n",
       "\n",
       "    .dataframe tbody tr th {\n",
       "        vertical-align: top;\n",
       "    }\n",
       "\n",
       "    .dataframe thead th {\n",
       "        text-align: right;\n",
       "    }\n",
       "</style>\n",
       "<table border=\"1\" class=\"dataframe\">\n",
       "  <thead>\n",
       "    <tr style=\"text-align: right;\">\n",
       "      <th></th>\n",
       "      <th>Loan_ID</th>\n",
       "      <th>Gender</th>\n",
       "      <th>Married</th>\n",
       "      <th>Dependents</th>\n",
       "      <th>Education</th>\n",
       "      <th>Self_Employed</th>\n",
       "      <th>ApplicantIncome</th>\n",
       "      <th>CoapplicantIncome</th>\n",
       "      <th>LoanAmount</th>\n",
       "      <th>Loan_Amount_Term</th>\n",
       "      <th>Credit_History</th>\n",
       "      <th>Property_Area</th>\n",
       "      <th>Loan_Status</th>\n",
       "    </tr>\n",
       "  </thead>\n",
       "  <tbody>\n",
       "    <tr>\n",
       "      <th>0</th>\n",
       "      <td>LP001003</td>\n",
       "      <td>Male</td>\n",
       "      <td>Yes</td>\n",
       "      <td>1</td>\n",
       "      <td>Graduate</td>\n",
       "      <td>No</td>\n",
       "      <td>4583</td>\n",
       "      <td>1508.0</td>\n",
       "      <td>128.0</td>\n",
       "      <td>360.0</td>\n",
       "      <td>1.0</td>\n",
       "      <td>Rural</td>\n",
       "      <td>N</td>\n",
       "    </tr>\n",
       "    <tr>\n",
       "      <th>1</th>\n",
       "      <td>LP001005</td>\n",
       "      <td>Male</td>\n",
       "      <td>Yes</td>\n",
       "      <td>0</td>\n",
       "      <td>Graduate</td>\n",
       "      <td>Yes</td>\n",
       "      <td>3000</td>\n",
       "      <td>0.0</td>\n",
       "      <td>66.0</td>\n",
       "      <td>360.0</td>\n",
       "      <td>1.0</td>\n",
       "      <td>Urban</td>\n",
       "      <td>Y</td>\n",
       "    </tr>\n",
       "    <tr>\n",
       "      <th>2</th>\n",
       "      <td>LP001006</td>\n",
       "      <td>Male</td>\n",
       "      <td>Yes</td>\n",
       "      <td>0</td>\n",
       "      <td>Not Graduate</td>\n",
       "      <td>No</td>\n",
       "      <td>2583</td>\n",
       "      <td>2358.0</td>\n",
       "      <td>120.0</td>\n",
       "      <td>360.0</td>\n",
       "      <td>1.0</td>\n",
       "      <td>Urban</td>\n",
       "      <td>Y</td>\n",
       "    </tr>\n",
       "    <tr>\n",
       "      <th>3</th>\n",
       "      <td>LP001008</td>\n",
       "      <td>Male</td>\n",
       "      <td>No</td>\n",
       "      <td>0</td>\n",
       "      <td>Graduate</td>\n",
       "      <td>No</td>\n",
       "      <td>6000</td>\n",
       "      <td>0.0</td>\n",
       "      <td>141.0</td>\n",
       "      <td>360.0</td>\n",
       "      <td>1.0</td>\n",
       "      <td>Urban</td>\n",
       "      <td>Y</td>\n",
       "    </tr>\n",
       "    <tr>\n",
       "      <th>4</th>\n",
       "      <td>LP001013</td>\n",
       "      <td>Male</td>\n",
       "      <td>Yes</td>\n",
       "      <td>0</td>\n",
       "      <td>Not Graduate</td>\n",
       "      <td>No</td>\n",
       "      <td>2333</td>\n",
       "      <td>1516.0</td>\n",
       "      <td>95.0</td>\n",
       "      <td>360.0</td>\n",
       "      <td>1.0</td>\n",
       "      <td>Urban</td>\n",
       "      <td>Y</td>\n",
       "    </tr>\n",
       "  </tbody>\n",
       "</table>\n",
       "</div>"
      ],
      "text/plain": [
       "    Loan_ID Gender Married Dependents     Education Self_Employed  \\\n",
       "0  LP001003   Male     Yes          1      Graduate            No   \n",
       "1  LP001005   Male     Yes          0      Graduate           Yes   \n",
       "2  LP001006   Male     Yes          0  Not Graduate            No   \n",
       "3  LP001008   Male      No          0      Graduate            No   \n",
       "4  LP001013   Male     Yes          0  Not Graduate            No   \n",
       "\n",
       "   ApplicantIncome  CoapplicantIncome  LoanAmount  Loan_Amount_Term  \\\n",
       "0             4583             1508.0       128.0             360.0   \n",
       "1             3000                0.0        66.0             360.0   \n",
       "2             2583             2358.0       120.0             360.0   \n",
       "3             6000                0.0       141.0             360.0   \n",
       "4             2333             1516.0        95.0             360.0   \n",
       "\n",
       "   Credit_History Property_Area Loan_Status  \n",
       "0             1.0         Rural           N  \n",
       "1             1.0         Urban           Y  \n",
       "2             1.0         Urban           Y  \n",
       "3             1.0         Urban           Y  \n",
       "4             1.0         Urban           Y  "
      ]
     },
     "execution_count": 10,
     "metadata": {},
     "output_type": "execute_result"
    }
   ],
   "source": [
    "data.head()"
   ]
  },
  {
   "cell_type": "code",
   "execution_count": 11,
   "id": "b35886ef-65c7-4d90-9766-f1f62bf5f7ad",
   "metadata": {},
   "outputs": [
    {
     "data": {
      "text/plain": [
       "Loan_ID               0\n",
       "Gender                5\n",
       "Married               0\n",
       "Dependents            8\n",
       "Education             0\n",
       "Self_Employed        21\n",
       "ApplicantIncome       0\n",
       "CoapplicantIncome     0\n",
       "LoanAmount            0\n",
       "Loan_Amount_Term     11\n",
       "Credit_History       30\n",
       "Property_Area         0\n",
       "Loan_Status           0\n",
       "dtype: int64"
      ]
     },
     "execution_count": 11,
     "metadata": {},
     "output_type": "execute_result"
    }
   ],
   "source": [
    "data.isnull().sum()"
   ]
  },
  {
   "cell_type": "code",
   "execution_count": 12,
   "id": "7ea55109-f0f7-470e-8bbb-86c25be1cbcd",
   "metadata": {},
   "outputs": [
    {
     "data": {
      "text/plain": [
       "(381, 13)"
      ]
     },
     "execution_count": 12,
     "metadata": {},
     "output_type": "execute_result"
    }
   ],
   "source": [
    "data.shape"
   ]
  },
  {
   "cell_type": "code",
   "execution_count": 13,
   "id": "a7725ae9-8651-48a6-a27b-7c73aaa65f51",
   "metadata": {},
   "outputs": [],
   "source": [
    "data.dropna(inplace=True)"
   ]
  },
  {
   "cell_type": "code",
   "execution_count": 14,
   "id": "f48f7db4-ac62-47f3-a7f8-9b876866c187",
   "metadata": {},
   "outputs": [
    {
     "data": {
      "text/html": [
       "<div>\n",
       "<style scoped>\n",
       "    .dataframe tbody tr th:only-of-type {\n",
       "        vertical-align: middle;\n",
       "    }\n",
       "\n",
       "    .dataframe tbody tr th {\n",
       "        vertical-align: top;\n",
       "    }\n",
       "\n",
       "    .dataframe thead th {\n",
       "        text-align: right;\n",
       "    }\n",
       "</style>\n",
       "<table border=\"1\" class=\"dataframe\">\n",
       "  <thead>\n",
       "    <tr style=\"text-align: right;\">\n",
       "      <th></th>\n",
       "      <th>ApplicantIncome</th>\n",
       "      <th>CoapplicantIncome</th>\n",
       "      <th>LoanAmount</th>\n",
       "      <th>Loan_Amount_Term</th>\n",
       "      <th>Credit_History</th>\n",
       "    </tr>\n",
       "  </thead>\n",
       "  <tbody>\n",
       "    <tr>\n",
       "      <th>count</th>\n",
       "      <td>308.000000</td>\n",
       "      <td>308.000000</td>\n",
       "      <td>308.000000</td>\n",
       "      <td>308.000000</td>\n",
       "      <td>308.000000</td>\n",
       "    </tr>\n",
       "    <tr>\n",
       "      <th>mean</th>\n",
       "      <td>3599.126623</td>\n",
       "      <td>1278.434805</td>\n",
       "      <td>104.623377</td>\n",
       "      <td>341.181818</td>\n",
       "      <td>0.853896</td>\n",
       "    </tr>\n",
       "    <tr>\n",
       "      <th>std</th>\n",
       "      <td>1462.359612</td>\n",
       "      <td>2520.961308</td>\n",
       "      <td>29.382256</td>\n",
       "      <td>68.246006</td>\n",
       "      <td>0.353785</td>\n",
       "    </tr>\n",
       "    <tr>\n",
       "      <th>min</th>\n",
       "      <td>150.000000</td>\n",
       "      <td>0.000000</td>\n",
       "      <td>9.000000</td>\n",
       "      <td>36.000000</td>\n",
       "      <td>0.000000</td>\n",
       "    </tr>\n",
       "    <tr>\n",
       "      <th>25%</th>\n",
       "      <td>2568.750000</td>\n",
       "      <td>0.000000</td>\n",
       "      <td>89.750000</td>\n",
       "      <td>360.000000</td>\n",
       "      <td>1.000000</td>\n",
       "    </tr>\n",
       "    <tr>\n",
       "      <th>50%</th>\n",
       "      <td>3329.500000</td>\n",
       "      <td>871.500000</td>\n",
       "      <td>110.000000</td>\n",
       "      <td>360.000000</td>\n",
       "      <td>1.000000</td>\n",
       "    </tr>\n",
       "    <tr>\n",
       "      <th>75%</th>\n",
       "      <td>4291.000000</td>\n",
       "      <td>1953.500000</td>\n",
       "      <td>128.000000</td>\n",
       "      <td>360.000000</td>\n",
       "      <td>1.000000</td>\n",
       "    </tr>\n",
       "    <tr>\n",
       "      <th>max</th>\n",
       "      <td>9703.000000</td>\n",
       "      <td>33837.000000</td>\n",
       "      <td>150.000000</td>\n",
       "      <td>480.000000</td>\n",
       "      <td>1.000000</td>\n",
       "    </tr>\n",
       "  </tbody>\n",
       "</table>\n",
       "</div>"
      ],
      "text/plain": [
       "       ApplicantIncome  CoapplicantIncome  LoanAmount  Loan_Amount_Term  \\\n",
       "count       308.000000         308.000000  308.000000        308.000000   \n",
       "mean       3599.126623        1278.434805  104.623377        341.181818   \n",
       "std        1462.359612        2520.961308   29.382256         68.246006   \n",
       "min         150.000000           0.000000    9.000000         36.000000   \n",
       "25%        2568.750000           0.000000   89.750000        360.000000   \n",
       "50%        3329.500000         871.500000  110.000000        360.000000   \n",
       "75%        4291.000000        1953.500000  128.000000        360.000000   \n",
       "max        9703.000000       33837.000000  150.000000        480.000000   \n",
       "\n",
       "       Credit_History  \n",
       "count      308.000000  \n",
       "mean         0.853896  \n",
       "std          0.353785  \n",
       "min          0.000000  \n",
       "25%          1.000000  \n",
       "50%          1.000000  \n",
       "75%          1.000000  \n",
       "max          1.000000  "
      ]
     },
     "execution_count": 14,
     "metadata": {},
     "output_type": "execute_result"
    }
   ],
   "source": [
    "data.describe()"
   ]
  },
  {
   "cell_type": "code",
   "execution_count": 15,
   "id": "306b6c5c-14ef-474a-a89d-f5e59b642d15",
   "metadata": {},
   "outputs": [
    {
     "data": {
      "text/plain": [
       "<Axes: xlabel='Gender', ylabel='count'>"
      ]
     },
     "execution_count": 15,
     "metadata": {},
     "output_type": "execute_result"
    },
    {
     "data": {
      "image/png": "[encoded data removed]",
      "text/plain": [
       "<Figure size 640x480 with 1 Axes>"
      ]
     },
     "metadata": {},
     "output_type": "display_data"
    }
   ],
   "source": [
    "sns.countplot(data=data,x=\"Gender\",hue=\"Loan_Status\",palette=\"Set2\")"
   ]
  },
  {
   "cell_type": "code",
   "execution_count": 16,
   "id": "7c13d5bc-087b-44b6-bc9d-caf31c987d0c",
   "metadata": {},
   "outputs": [
    {
     "data": {
      "text/plain": [
       "<Axes: xlabel='Education', ylabel='count'>"
      ]
     },
     "execution_count": 16,
     "metadata": {},
     "output_type": "execute_result"
    },
    {
     "data": {
      "image/png": "[encoded data removed]",
      "text/plain": [
       "<Figure size 640x480 with 1 Axes>"
      ]
     },
     "metadata": {},
     "output_type": "display_data"
    }
   ],
   "source": [
    "sns.countplot(data,x=\"Education\",hue=\"Loan_Status\",palette=\"Set2\")"
   ]
  },
  {
   "cell_type": "code",
   "execution_count": 17,
   "id": "7376d7ca-5611-4447-aa72-4882cb5c29fc",
   "metadata": {},
   "outputs": [
    {
     "data": {
      "text/plain": [
       "<Axes: xlabel='Married', ylabel='count'>"
      ]
     },
     "execution_count": 17,
     "metadata": {},
     "output_type": "execute_result"
    },
    {
     "data": {
      "image/png": "[encoded data removed]",
      "text/plain": [
       "<Figure size 640x480 with 1 Axes>"
      ]
     },
     "metadata": {},
     "output_type": "display_data"
    }
   ],
   "source": [
    "sns.countplot(data,x=\"Married\",hue=\"Loan_Status\",palette=\"Set2\")"
   ]
  },
  {
   "cell_type": "code",
   "execution_count": 66,
   "id": "ab07e8b5-c070-4fdf-926e-8ec24e411323",
   "metadata": {},
   "outputs": [],
   "source": [
    "def cat_num(data, categorical):\n",
    "    for i in categorical:\n",
    "        encoder = LabelEncoder()\n",
    "        data[i] = encoder.fit_transform(data[i])"
   ]
  },
  {
   "cell_type": "code",
   "execution_count": 67,
   "id": "332454e0-f6ab-4c2c-a91d-a3de54291e86",
   "metadata": {},
   "outputs": [],
   "source": [
    "categorical= [\"Gender\",\"Married\",\"Education\",\"Self_Employed\",\"Property_Area\",\"Loan_Status\"]"
   ]
  },
  {
   "cell_type": "code",
   "execution_count": 68,
   "id": "adbc6ef6-6420-4887-8d8a-501b05654ea9",
   "metadata": {},
   "outputs": [],
   "source": [
    "cat_num(data,categorical)"
   ]
  },
  {
   "cell_type": "code",
   "execution_count": 69,
   "id": "8a8ed340-0f12-4085-bede-70e0d06881ac",
   "metadata": {},
   "outputs": [],
   "source": [
    "data[\"Dependents\"]= data[\"Dependents\"].replace(to_replace=\"3+\",value=4)"
   ]
  },
  {
   "cell_type": "code",
   "execution_count": 70,
   "id": "e4b9606c-b3d1-4475-b237-f0a72b8872fd",
   "metadata": {},
   "outputs": [
    {
     "data": {
      "text/html": [
       "<div>\n",
       "<style scoped>\n",
       "    .dataframe tbody tr th:only-of-type {\n",
       "        vertical-align: middle;\n",
       "    }\n",
       "\n",
       "    .dataframe tbody tr th {\n",
       "        vertical-align: top;\n",
       "    }\n",
       "\n",
       "    .dataframe thead th {\n",
       "        text-align: right;\n",
       "    }\n",
       "</style>\n",
       "<table border=\"1\" class=\"dataframe\">\n",
       "  <thead>\n",
       "    <tr style=\"text-align: right;\">\n",
       "      <th></th>\n",
       "      <th>Loan_ID</th>\n",
       "      <th>Gender</th>\n",
       "      <th>Married</th>\n",
       "      <th>Dependents</th>\n",
       "      <th>Education</th>\n",
       "      <th>Self_Employed</th>\n",
       "      <th>ApplicantIncome</th>\n",
       "      <th>CoapplicantIncome</th>\n",
       "      <th>LoanAmount</th>\n",
       "      <th>Loan_Amount_Term</th>\n",
       "      <th>Credit_History</th>\n",
       "      <th>Property_Area</th>\n",
       "      <th>Loan_Status</th>\n",
       "    </tr>\n",
       "  </thead>\n",
       "  <tbody>\n",
       "    <tr>\n",
       "      <th>0</th>\n",
       "      <td>LP001003</td>\n",
       "      <td>1</td>\n",
       "      <td>1</td>\n",
       "      <td>1</td>\n",
       "      <td>0</td>\n",
       "      <td>0</td>\n",
       "      <td>4583</td>\n",
       "      <td>1508.0</td>\n",
       "      <td>128.0</td>\n",
       "      <td>360.0</td>\n",
       "      <td>1.0</td>\n",
       "      <td>0</td>\n",
       "      <td>0</td>\n",
       "    </tr>\n",
       "    <tr>\n",
       "      <th>1</th>\n",
       "      <td>LP001005</td>\n",
       "      <td>1</td>\n",
       "      <td>1</td>\n",
       "      <td>0</td>\n",
       "      <td>0</td>\n",
       "      <td>1</td>\n",
       "      <td>3000</td>\n",
       "      <td>0.0</td>\n",
       "      <td>66.0</td>\n",
       "      <td>360.0</td>\n",
       "      <td>1.0</td>\n",
       "      <td>2</td>\n",
       "      <td>1</td>\n",
       "    </tr>\n",
       "    <tr>\n",
       "      <th>2</th>\n",
       "      <td>LP001006</td>\n",
       "      <td>1</td>\n",
       "      <td>1</td>\n",
       "      <td>0</td>\n",
       "      <td>1</td>\n",
       "      <td>0</td>\n",
       "      <td>2583</td>\n",
       "      <td>2358.0</td>\n",
       "      <td>120.0</td>\n",
       "      <td>360.0</td>\n",
       "      <td>1.0</td>\n",
       "      <td>2</td>\n",
       "      <td>1</td>\n",
       "    </tr>\n",
       "    <tr>\n",
       "      <th>3</th>\n",
       "      <td>LP001008</td>\n",
       "      <td>1</td>\n",
       "      <td>0</td>\n",
       "      <td>0</td>\n",
       "      <td>0</td>\n",
       "      <td>0</td>\n",
       "      <td>6000</td>\n",
       "      <td>0.0</td>\n",
       "      <td>141.0</td>\n",
       "      <td>360.0</td>\n",
       "      <td>1.0</td>\n",
       "      <td>2</td>\n",
       "      <td>1</td>\n",
       "    </tr>\n",
       "    <tr>\n",
       "      <th>4</th>\n",
       "      <td>LP001013</td>\n",
       "      <td>1</td>\n",
       "      <td>1</td>\n",
       "      <td>0</td>\n",
       "      <td>1</td>\n",
       "      <td>0</td>\n",
       "      <td>2333</td>\n",
       "      <td>1516.0</td>\n",
       "      <td>95.0</td>\n",
       "      <td>360.0</td>\n",
       "      <td>1.0</td>\n",
       "      <td>2</td>\n",
       "      <td>1</td>\n",
       "    </tr>\n",
       "    <tr>\n",
       "      <th>...</th>\n",
       "      <td>...</td>\n",
       "      <td>...</td>\n",
       "      <td>...</td>\n",
       "      <td>...</td>\n",
       "      <td>...</td>\n",
       "      <td>...</td>\n",
       "      <td>...</td>\n",
       "      <td>...</td>\n",
       "      <td>...</td>\n",
       "      <td>...</td>\n",
       "      <td>...</td>\n",
       "      <td>...</td>\n",
       "      <td>...</td>\n",
       "    </tr>\n",
       "    <tr>\n",
       "      <th>376</th>\n",
       "      <td>LP002953</td>\n",
       "      <td>1</td>\n",
       "      <td>1</td>\n",
       "      <td>4</td>\n",
       "      <td>0</td>\n",
       "      <td>0</td>\n",
       "      <td>5703</td>\n",
       "      <td>0.0</td>\n",
       "      <td>128.0</td>\n",
       "      <td>360.0</td>\n",
       "      <td>1.0</td>\n",
       "      <td>2</td>\n",
       "      <td>1</td>\n",
       "    </tr>\n",
       "    <tr>\n",
       "      <th>377</th>\n",
       "      <td>LP002974</td>\n",
       "      <td>1</td>\n",
       "      <td>1</td>\n",
       "      <td>0</td>\n",
       "      <td>0</td>\n",
       "      <td>0</td>\n",
       "      <td>3232</td>\n",
       "      <td>1950.0</td>\n",
       "      <td>108.0</td>\n",
       "      <td>360.0</td>\n",
       "      <td>1.0</td>\n",
       "      <td>0</td>\n",
       "      <td>1</td>\n",
       "    </tr>\n",
       "    <tr>\n",
       "      <th>378</th>\n",
       "      <td>LP002978</td>\n",
       "      <td>0</td>\n",
       "      <td>0</td>\n",
       "      <td>0</td>\n",
       "      <td>0</td>\n",
       "      <td>0</td>\n",
       "      <td>2900</td>\n",
       "      <td>0.0</td>\n",
       "      <td>71.0</td>\n",
       "      <td>360.0</td>\n",
       "      <td>1.0</td>\n",
       "      <td>0</td>\n",
       "      <td>1</td>\n",
       "    </tr>\n",
       "    <tr>\n",
       "      <th>379</th>\n",
       "      <td>LP002979</td>\n",
       "      <td>1</td>\n",
       "      <td>1</td>\n",
       "      <td>4</td>\n",
       "      <td>0</td>\n",
       "      <td>0</td>\n",
       "      <td>4106</td>\n",
       "      <td>0.0</td>\n",
       "      <td>40.0</td>\n",
       "      <td>180.0</td>\n",
       "      <td>1.0</td>\n",
       "      <td>0</td>\n",
       "      <td>1</td>\n",
       "    </tr>\n",
       "    <tr>\n",
       "      <th>380</th>\n",
       "      <td>LP002990</td>\n",
       "      <td>0</td>\n",
       "      <td>0</td>\n",
       "      <td>0</td>\n",
       "      <td>0</td>\n",
       "      <td>1</td>\n",
       "      <td>4583</td>\n",
       "      <td>0.0</td>\n",
       "      <td>133.0</td>\n",
       "      <td>360.0</td>\n",
       "      <td>0.0</td>\n",
       "      <td>1</td>\n",
       "      <td>0</td>\n",
       "    </tr>\n",
       "  </tbody>\n",
       "</table>\n",
       "<p>308 rows × 13 columns</p>\n",
       "</div>"
      ],
      "text/plain": [
       "      Loan_ID  Gender  Married Dependents  Education  Self_Employed  \\\n",
       "0    LP001003       1        1          1          0              0   \n",
       "1    LP001005       1        1          0          0              1   \n",
       "2    LP001006       1        1          0          1              0   \n",
       "3    LP001008       1        0          0          0              0   \n",
       "4    LP001013       1        1          0          1              0   \n",
       "..        ...     ...      ...        ...        ...            ...   \n",
       "376  LP002953       1        1          4          0              0   \n",
       "377  LP002974       1        1          0          0              0   \n",
       "378  LP002978       0        0          0          0              0   \n",
       "379  LP002979       1        1          4          0              0   \n",
       "380  LP002990       0        0          0          0              1   \n",
       "\n",
       "     ApplicantIncome  CoapplicantIncome  LoanAmount  Loan_Amount_Term  \\\n",
       "0               4583             1508.0       128.0             360.0   \n",
       "1               3000                0.0        66.0             360.0   \n",
       "2               2583             2358.0       120.0             360.0   \n",
       "3               6000                0.0       141.0             360.0   \n",
       "4               2333             1516.0        95.0             360.0   \n",
       "..               ...                ...         ...               ...   \n",
       "376             5703                0.0       128.0             360.0   \n",
       "377             3232             1950.0       108.0             360.0   \n",
       "378             2900                0.0        71.0             360.0   \n",
       "379             4106                0.0        40.0             180.0   \n",
       "380             4583                0.0       133.0             360.0   \n",
       "\n",
       "     Credit_History  Property_Area  Loan_Status  \n",
       "0               1.0              0            0  \n",
       "1               1.0              2            1  \n",
       "2               1.0              2            1  \n",
       "3               1.0              2            1  \n",
       "4               1.0              2            1  \n",
       "..              ...            ...          ...  \n",
       "376             1.0              2            1  \n",
       "377             1.0              0            1  \n",
       "378             1.0              0            1  \n",
       "379             1.0              0            1  \n",
       "380             0.0              1            0  \n",
       "\n",
       "[308 rows x 13 columns]"
      ]
     },
     "execution_count": 70,
     "metadata": {},
     "output_type": "execute_result"
    }
   ],
   "source": [
    "data"
   ]
  },
  {
   "cell_type": "code",
   "execution_count": 23,
   "id": "a02f5fb1-94aa-44c4-9596-f8348be1c764",
   "metadata": {},
   "outputs": [
    {
     "data": {
      "text/plain": [
       "Property_Area\n",
       "1    123\n",
       "2     99\n",
       "0     86\n",
       "Name: count, dtype: int64"
      ]
     },
     "execution_count": 23,
     "metadata": {},
     "output_type": "execute_result"
    }
   ],
   "source": [
    "data[\"Property_Area\"].value_counts()"
   ]
  },
  {
   "cell_type": "code",
   "execution_count": 24,
   "id": "efc0fd5f-a3fe-4fd5-a79c-b128ae7963ff",
   "metadata": {},
   "outputs": [
    {
     "data": {
      "text/html": [
       "<div>\n",
       "<style scoped>\n",
       "    .dataframe tbody tr th:only-of-type {\n",
       "        vertical-align: middle;\n",
       "    }\n",
       "\n",
       "    .dataframe tbody tr th {\n",
       "        vertical-align: top;\n",
       "    }\n",
       "\n",
       "    .dataframe thead th {\n",
       "        text-align: right;\n",
       "    }\n",
       "</style>\n",
       "<table border=\"1\" class=\"dataframe\">\n",
       "  <thead>\n",
       "    <tr style=\"text-align: right;\">\n",
       "      <th></th>\n",
       "      <th>Gender</th>\n",
       "      <th>Married</th>\n",
       "      <th>Education</th>\n",
       "      <th>Self_Employed</th>\n",
       "      <th>ApplicantIncome</th>\n",
       "      <th>CoapplicantIncome</th>\n",
       "      <th>LoanAmount</th>\n",
       "      <th>Loan_Amount_Term</th>\n",
       "      <th>Credit_History</th>\n",
       "      <th>Property_Area</th>\n",
       "      <th>Loan_Status</th>\n",
       "    </tr>\n",
       "  </thead>\n",
       "  <tbody>\n",
       "    <tr>\n",
       "      <th>count</th>\n",
       "      <td>308.000000</td>\n",
       "      <td>308.000000</td>\n",
       "      <td>308.000000</td>\n",
       "      <td>308.000000</td>\n",
       "      <td>308.000000</td>\n",
       "      <td>308.000000</td>\n",
       "      <td>308.000000</td>\n",
       "      <td>308.000000</td>\n",
       "      <td>308.000000</td>\n",
       "      <td>308.000000</td>\n",
       "      <td>308.000000</td>\n",
       "    </tr>\n",
       "    <tr>\n",
       "      <th>mean</th>\n",
       "      <td>0.795455</td>\n",
       "      <td>0.600649</td>\n",
       "      <td>0.256494</td>\n",
       "      <td>0.090909</td>\n",
       "      <td>3599.126623</td>\n",
       "      <td>1278.434805</td>\n",
       "      <td>104.623377</td>\n",
       "      <td>341.181818</td>\n",
       "      <td>0.853896</td>\n",
       "      <td>1.042208</td>\n",
       "      <td>0.711039</td>\n",
       "    </tr>\n",
       "    <tr>\n",
       "      <th>std</th>\n",
       "      <td>0.404025</td>\n",
       "      <td>0.490562</td>\n",
       "      <td>0.437408</td>\n",
       "      <td>0.287948</td>\n",
       "      <td>1462.359612</td>\n",
       "      <td>2520.961308</td>\n",
       "      <td>29.382256</td>\n",
       "      <td>68.246006</td>\n",
       "      <td>0.353785</td>\n",
       "      <td>0.775125</td>\n",
       "      <td>0.454017</td>\n",
       "    </tr>\n",
       "    <tr>\n",
       "      <th>min</th>\n",
       "      <td>0.000000</td>\n",
       "      <td>0.000000</td>\n",
       "      <td>0.000000</td>\n",
       "      <td>0.000000</td>\n",
       "      <td>150.000000</td>\n",
       "      <td>0.000000</td>\n",
       "      <td>9.000000</td>\n",
       "      <td>36.000000</td>\n",
       "      <td>0.000000</td>\n",
       "      <td>0.000000</td>\n",
       "      <td>0.000000</td>\n",
       "    </tr>\n",
       "    <tr>\n",
       "      <th>25%</th>\n",
       "      <td>1.000000</td>\n",
       "      <td>0.000000</td>\n",
       "      <td>0.000000</td>\n",
       "      <td>0.000000</td>\n",
       "      <td>2568.750000</td>\n",
       "      <td>0.000000</td>\n",
       "      <td>89.750000</td>\n",
       "      <td>360.000000</td>\n",
       "      <td>1.000000</td>\n",
       "      <td>0.000000</td>\n",
       "      <td>0.000000</td>\n",
       "    </tr>\n",
       "    <tr>\n",
       "      <th>50%</th>\n",
       "      <td>1.000000</td>\n",
       "      <td>1.000000</td>\n",
       "      <td>0.000000</td>\n",
       "      <td>0.000000</td>\n",
       "      <td>3329.500000</td>\n",
       "      <td>871.500000</td>\n",
       "      <td>110.000000</td>\n",
       "      <td>360.000000</td>\n",
       "      <td>1.000000</td>\n",
       "      <td>1.000000</td>\n",
       "      <td>1.000000</td>\n",
       "    </tr>\n",
       "    <tr>\n",
       "      <th>75%</th>\n",
       "      <td>1.000000</td>\n",
       "      <td>1.000000</td>\n",
       "      <td>1.000000</td>\n",
       "      <td>0.000000</td>\n",
       "      <td>4291.000000</td>\n",
       "      <td>1953.500000</td>\n",
       "      <td>128.000000</td>\n",
       "      <td>360.000000</td>\n",
       "      <td>1.000000</td>\n",
       "      <td>2.000000</td>\n",
       "      <td>1.000000</td>\n",
       "    </tr>\n",
       "    <tr>\n",
       "      <th>max</th>\n",
       "      <td>1.000000</td>\n",
       "      <td>1.000000</td>\n",
       "      <td>1.000000</td>\n",
       "      <td>1.000000</td>\n",
       "      <td>9703.000000</td>\n",
       "      <td>33837.000000</td>\n",
       "      <td>150.000000</td>\n",
       "      <td>480.000000</td>\n",
       "      <td>1.000000</td>\n",
       "      <td>2.000000</td>\n",
       "      <td>1.000000</td>\n",
       "    </tr>\n",
       "  </tbody>\n",
       "</table>\n",
       "</div>"
      ],
      "text/plain": [
       "           Gender     Married   Education  Self_Employed  ApplicantIncome  \\\n",
       "count  308.000000  308.000000  308.000000     308.000000       308.000000   \n",
       "mean     0.795455    0.600649    0.256494       0.090909      3599.126623   \n",
       "std      0.404025    0.490562    0.437408       0.287948      1462.359612   \n",
       "min      0.000000    0.000000    0.000000       0.000000       150.000000   \n",
       "25%      1.000000    0.000000    0.000000       0.000000      2568.750000   \n",
       "50%      1.000000    1.000000    0.000000       0.000000      3329.500000   \n",
       "75%      1.000000    1.000000    1.000000       0.000000      4291.000000   \n",
       "max      1.000000    1.000000    1.000000       1.000000      9703.000000   \n",
       "\n",
       "       CoapplicantIncome  LoanAmount  Loan_Amount_Term  Credit_History  \\\n",
       "count         308.000000  308.000000        308.000000      308.000000   \n",
       "mean         1278.434805  104.623377        341.181818        0.853896   \n",
       "std          2520.961308   29.382256         68.246006        0.353785   \n",
       "min             0.000000    9.000000         36.000000        0.000000   \n",
       "25%             0.000000   89.750000        360.000000        1.000000   \n",
       "50%           871.500000  110.000000        360.000000        1.000000   \n",
       "75%          1953.500000  128.000000        360.000000        1.000000   \n",
       "max         33837.000000  150.000000        480.000000        1.000000   \n",
       "\n",
       "       Property_Area  Loan_Status  \n",
       "count     308.000000   308.000000  \n",
       "mean        1.042208     0.711039  \n",
       "std         0.775125     0.454017  \n",
       "min         0.000000     0.000000  \n",
       "25%         0.000000     0.000000  \n",
       "50%         1.000000     1.000000  \n",
       "75%         2.000000     1.000000  \n",
       "max         2.000000     1.000000  "
      ]
     },
     "execution_count": 24,
     "metadata": {},
     "output_type": "execute_result"
    }
   ],
   "source": [
    "data.describe()"
   ]
  },
  {
   "cell_type": "code",
   "execution_count": 87,
   "id": "c649d76d-5cee-4502-aaa4-1809a8f8becf",
   "metadata": {},
   "outputs": [],
   "source": [
    "data1= data.drop(\"Loan_ID\",axis=1)"
   ]
  },
  {
   "cell_type": "code",
   "execution_count": 88,
   "id": "3a466b2b-1abd-4706-bb20-bfb7d6402d09",
   "metadata": {},
   "outputs": [
    {
     "data": {
      "text/html": [
       "<div>\n",
       "<style scoped>\n",
       "    .dataframe tbody tr th:only-of-type {\n",
       "        vertical-align: middle;\n",
       "    }\n",
       "\n",
       "    .dataframe tbody tr th {\n",
       "        vertical-align: top;\n",
       "    }\n",
       "\n",
       "    .dataframe thead th {\n",
       "        text-align: right;\n",
       "    }\n",
       "</style>\n",
       "<table border=\"1\" class=\"dataframe\">\n",
       "  <thead>\n",
       "    <tr style=\"text-align: right;\">\n",
       "      <th></th>\n",
       "      <th>Gender</th>\n",
       "      <th>Married</th>\n",
       "      <th>Dependents</th>\n",
       "      <th>Education</th>\n",
       "      <th>Self_Employed</th>\n",
       "      <th>ApplicantIncome</th>\n",
       "      <th>CoapplicantIncome</th>\n",
       "      <th>LoanAmount</th>\n",
       "      <th>Loan_Amount_Term</th>\n",
       "      <th>Credit_History</th>\n",
       "      <th>Property_Area</th>\n",
       "      <th>Loan_Status</th>\n",
       "    </tr>\n",
       "  </thead>\n",
       "  <tbody>\n",
       "    <tr>\n",
       "      <th>Gender</th>\n",
       "      <td>1.000000</td>\n",
       "      <td>0.342512</td>\n",
       "      <td>0.233742</td>\n",
       "      <td>0.131954</td>\n",
       "      <td>-0.007636</td>\n",
       "      <td>0.018276</td>\n",
       "      <td>0.107629</td>\n",
       "      <td>0.107087</td>\n",
       "      <td>-0.107448</td>\n",
       "      <td>0.063704</td>\n",
       "      <td>0.038059</td>\n",
       "      <td>0.085155</td>\n",
       "    </tr>\n",
       "    <tr>\n",
       "      <th>Married</th>\n",
       "      <td>0.342512</td>\n",
       "      <td>1.000000</td>\n",
       "      <td>0.383522</td>\n",
       "      <td>0.023510</td>\n",
       "      <td>-0.018867</td>\n",
       "      <td>-0.042202</td>\n",
       "      <td>0.059177</td>\n",
       "      <td>0.177552</td>\n",
       "      <td>-0.152815</td>\n",
       "      <td>0.056854</td>\n",
       "      <td>0.053039</td>\n",
       "      <td>0.123695</td>\n",
       "    </tr>\n",
       "    <tr>\n",
       "      <th>Dependents</th>\n",
       "      <td>0.233742</td>\n",
       "      <td>0.383522</td>\n",
       "      <td>1.000000</td>\n",
       "      <td>0.107375</td>\n",
       "      <td>0.055056</td>\n",
       "      <td>0.169586</td>\n",
       "      <td>-0.074247</td>\n",
       "      <td>0.077782</td>\n",
       "      <td>-0.114322</td>\n",
       "      <td>0.023430</td>\n",
       "      <td>0.018158</td>\n",
       "      <td>0.031975</td>\n",
       "    </tr>\n",
       "    <tr>\n",
       "      <th>Education</th>\n",
       "      <td>0.131954</td>\n",
       "      <td>0.023510</td>\n",
       "      <td>0.107375</td>\n",
       "      <td>1.000000</td>\n",
       "      <td>0.021160</td>\n",
       "      <td>-0.040449</td>\n",
       "      <td>-0.052910</td>\n",
       "      <td>-0.041882</td>\n",
       "      <td>-0.141566</td>\n",
       "      <td>0.011413</td>\n",
       "      <td>-0.070464</td>\n",
       "      <td>-0.052029</td>\n",
       "    </tr>\n",
       "    <tr>\n",
       "      <th>Self_Employed</th>\n",
       "      <td>-0.007636</td>\n",
       "      <td>-0.018867</td>\n",
       "      <td>0.055056</td>\n",
       "      <td>0.021160</td>\n",
       "      <td>1.000000</td>\n",
       "      <td>0.231252</td>\n",
       "      <td>-0.065120</td>\n",
       "      <td>0.012915</td>\n",
       "      <td>-0.051897</td>\n",
       "      <td>0.002907</td>\n",
       "      <td>-0.075624</td>\n",
       "      <td>-0.047567</td>\n",
       "    </tr>\n",
       "    <tr>\n",
       "      <th>ApplicantIncome</th>\n",
       "      <td>0.018276</td>\n",
       "      <td>-0.042202</td>\n",
       "      <td>0.169586</td>\n",
       "      <td>-0.040449</td>\n",
       "      <td>0.231252</td>\n",
       "      <td>1.000000</td>\n",
       "      <td>-0.243677</td>\n",
       "      <td>0.267628</td>\n",
       "      <td>-0.099571</td>\n",
       "      <td>0.030307</td>\n",
       "      <td>-0.059283</td>\n",
       "      <td>0.033927</td>\n",
       "    </tr>\n",
       "    <tr>\n",
       "      <th>CoapplicantIncome</th>\n",
       "      <td>0.107629</td>\n",
       "      <td>0.059177</td>\n",
       "      <td>-0.074247</td>\n",
       "      <td>-0.052910</td>\n",
       "      <td>-0.065120</td>\n",
       "      <td>-0.243677</td>\n",
       "      <td>1.000000</td>\n",
       "      <td>0.123028</td>\n",
       "      <td>-0.004158</td>\n",
       "      <td>0.012715</td>\n",
       "      <td>0.030139</td>\n",
       "      <td>-0.001546</td>\n",
       "    </tr>\n",
       "    <tr>\n",
       "      <th>LoanAmount</th>\n",
       "      <td>0.107087</td>\n",
       "      <td>0.177552</td>\n",
       "      <td>0.077782</td>\n",
       "      <td>-0.041882</td>\n",
       "      <td>0.012915</td>\n",
       "      <td>0.267628</td>\n",
       "      <td>0.123028</td>\n",
       "      <td>1.000000</td>\n",
       "      <td>0.135069</td>\n",
       "      <td>-0.043853</td>\n",
       "      <td>-0.184085</td>\n",
       "      <td>0.053104</td>\n",
       "    </tr>\n",
       "    <tr>\n",
       "      <th>Loan_Amount_Term</th>\n",
       "      <td>-0.107448</td>\n",
       "      <td>-0.152815</td>\n",
       "      <td>-0.114322</td>\n",
       "      <td>-0.141566</td>\n",
       "      <td>-0.051897</td>\n",
       "      <td>-0.099571</td>\n",
       "      <td>-0.004158</td>\n",
       "      <td>0.135069</td>\n",
       "      <td>1.000000</td>\n",
       "      <td>0.015269</td>\n",
       "      <td>-0.101685</td>\n",
       "      <td>-0.009547</td>\n",
       "    </tr>\n",
       "    <tr>\n",
       "      <th>Credit_History</th>\n",
       "      <td>0.063704</td>\n",
       "      <td>0.056854</td>\n",
       "      <td>0.023430</td>\n",
       "      <td>0.011413</td>\n",
       "      <td>0.002907</td>\n",
       "      <td>0.030307</td>\n",
       "      <td>0.012715</td>\n",
       "      <td>-0.043853</td>\n",
       "      <td>0.015269</td>\n",
       "      <td>1.000000</td>\n",
       "      <td>0.058195</td>\n",
       "      <td>0.588029</td>\n",
       "    </tr>\n",
       "    <tr>\n",
       "      <th>Property_Area</th>\n",
       "      <td>0.038059</td>\n",
       "      <td>0.053039</td>\n",
       "      <td>0.018158</td>\n",
       "      <td>-0.070464</td>\n",
       "      <td>-0.075624</td>\n",
       "      <td>-0.059283</td>\n",
       "      <td>0.030139</td>\n",
       "      <td>-0.184085</td>\n",
       "      <td>-0.101685</td>\n",
       "      <td>0.058195</td>\n",
       "      <td>1.000000</td>\n",
       "      <td>0.034770</td>\n",
       "    </tr>\n",
       "    <tr>\n",
       "      <th>Loan_Status</th>\n",
       "      <td>0.085155</td>\n",
       "      <td>0.123695</td>\n",
       "      <td>0.031975</td>\n",
       "      <td>-0.052029</td>\n",
       "      <td>-0.047567</td>\n",
       "      <td>0.033927</td>\n",
       "      <td>-0.001546</td>\n",
       "      <td>0.053104</td>\n",
       "      <td>-0.009547</td>\n",
       "      <td>0.588029</td>\n",
       "      <td>0.034770</td>\n",
       "      <td>1.000000</td>\n",
       "    </tr>\n",
       "  </tbody>\n",
       "</table>\n",
       "</div>"
      ],
      "text/plain": [
       "                     Gender   Married  Dependents  Education  Self_Employed  \\\n",
       "Gender             1.000000  0.342512    0.233742   0.131954      -0.007636   \n",
       "Married            0.342512  1.000000    0.383522   0.023510      -0.018867   \n",
       "Dependents         0.233742  0.383522    1.000000   0.107375       0.055056   \n",
       "Education          0.131954  0.023510    0.107375   1.000000       0.021160   \n",
       "Self_Employed     -0.007636 -0.018867    0.055056   0.021160       1.000000   \n",
       "ApplicantIncome    0.018276 -0.042202    0.169586  -0.040449       0.231252   \n",
       "CoapplicantIncome  0.107629  0.059177   -0.074247  -0.052910      -0.065120   \n",
       "LoanAmount         0.107087  0.177552    0.077782  -0.041882       0.012915   \n",
       "Loan_Amount_Term  -0.107448 -0.152815   -0.114322  -0.141566      -0.051897   \n",
       "Credit_History     0.063704  0.056854    0.023430   0.011413       0.002907   \n",
       "Property_Area      0.038059  0.053039    0.018158  -0.070464      -0.075624   \n",
       "Loan_Status        0.085155  0.123695    0.031975  -0.052029      -0.047567   \n",
       "\n",
       "                   ApplicantIncome  CoapplicantIncome  LoanAmount  \\\n",
       "Gender                    0.018276           0.107629    0.107087   \n",
       "Married                  -0.042202           0.059177    0.177552   \n",
       "Dependents                0.169586          -0.074247    0.077782   \n",
       "Education                -0.040449          -0.052910   -0.041882   \n",
       "Self_Employed             0.231252          -0.065120    0.012915   \n",
       "ApplicantIncome           1.000000          -0.243677    0.267628   \n",
       "CoapplicantIncome        -0.243677           1.000000    0.123028   \n",
       "LoanAmount                0.267628           0.123028    1.000000   \n",
       "Loan_Amount_Term         -0.099571          -0.004158    0.135069   \n",
       "Credit_History            0.030307           0.012715   -0.043853   \n",
       "Property_Area            -0.059283           0.030139   -0.184085   \n",
       "Loan_Status               0.033927          -0.001546    0.053104   \n",
       "\n",
       "                   Loan_Amount_Term  Credit_History  Property_Area  \\\n",
       "Gender                    -0.107448        0.063704       0.038059   \n",
       "Married                   -0.152815        0.056854       0.053039   \n",
       "Dependents                -0.114322        0.023430       0.018158   \n",
       "Education                 -0.141566        0.011413      -0.070464   \n",
       "Self_Employed             -0.051897        0.002907      -0.075624   \n",
       "ApplicantIncome           -0.099571        0.030307      -0.059283   \n",
       "CoapplicantIncome         -0.004158        0.012715       0.030139   \n",
       "LoanAmount                 0.135069       -0.043853      -0.184085   \n",
       "Loan_Amount_Term           1.000000        0.015269      -0.101685   \n",
       "Credit_History             0.015269        1.000000       0.058195   \n",
       "Property_Area             -0.101685        0.058195       1.000000   \n",
       "Loan_Status               -0.009547        0.588029       0.034770   \n",
       "\n",
       "                   Loan_Status  \n",
       "Gender                0.085155  \n",
       "Married               0.123695  \n",
       "Dependents            0.031975  \n",
       "Education            -0.052029  \n",
       "Self_Employed        -0.047567  \n",
       "ApplicantIncome       0.033927  \n",
       "CoapplicantIncome    -0.001546  \n",
       "LoanAmount            0.053104  \n",
       "Loan_Amount_Term     -0.009547  \n",
       "Credit_History        0.588029  \n",
       "Property_Area         0.034770  \n",
       "Loan_Status           1.000000  "
      ]
     },
     "execution_count": 88,
     "metadata": {},
     "output_type": "execute_result"
    }
   ],
   "source": [
    "data1.corr()"
   ]
  },
  {
   "cell_type": "code",
   "execution_count": 89,
   "id": "28b863ed-f4aa-4bd6-99f5-f550c9aef4b2",
   "metadata": {},
   "outputs": [
    {
     "data": {
      "text/plain": [
       "<Axes: >"
      ]
     },
     "execution_count": 89,
     "metadata": {},
     "output_type": "execute_result"
    },
    {
     "data": {
      "image/png": "[encoded data removed]",
      "text/plain": [
       "<Figure size 1200x600 with 2 Axes>"
      ]
     },
     "metadata": {},
     "output_type": "display_data"
    }
   ],
   "source": [
    "plt.figure(figsize=(12,6))\n",
    "sns.heatmap(data1.corr(),cmap=\"BrBG\",fmt='.2f',linewidths=2,annot=True)"
   ]
  },
  {
   "cell_type": "markdown",
   "id": "f109ba9e-d737-422f-a942-ca707a94ed9a",
   "metadata": {},
   "source": [
    "### Model Training And Evaluation"
   ]
  },
  {
   "cell_type": "code",
   "execution_count": 25,
   "id": "0d4c57ae-3a5e-46c2-9ca3-66adeeffd01b",
   "metadata": {},
   "outputs": [],
   "source": [
    "x= data.drop([\"Loan_ID\",\"Loan_Status\"],axis=1)\n",
    "y= data[\"Loan_Status\"]"
   ]
  },
  {
   "cell_type": "code",
   "execution_count": 26,
   "id": "7c446900-6ea3-48de-9475-17d400c002f3",
   "metadata": {},
   "outputs": [
    {
     "name": "stdout",
     "output_type": "stream",
     "text": [
      "(308, 11) (246, 11) (62, 11)\n"
     ]
    }
   ],
   "source": [
    "x_train,x_test,y_train,y_test= train_test_split(x,y,stratify=y,test_size=0.2,random_state=2)\n",
    "print(x.shape,x_train.shape,x_test.shape)"
   ]
  },
  {
   "cell_type": "code",
   "execution_count": 37,
   "id": "0dd29527-2fb3-4fca-8670-891e50e89480",
   "metadata": {},
   "outputs": [
    {
     "data": {
      "text/html": [
       "<style>#sk-container-id-1 {color: black;}#sk-container-id-1 pre{padding: 0;}#sk-container-id-1 div.sk-toggleable {background-color: white;}#sk-container-id-1 label.sk-toggleable__label {cursor: pointer;display: block;width: 100%;margin-bottom: 0;padding: 0.3em;box-sizing: border-box;text-align: center;}#sk-container-id-1 label.sk-toggleable__label-arrow:before {content: \"▸\";float: left;margin-right: 0.25em;color: #696969;}#sk-container-id-1 label.sk-toggleable__label-arrow:hover:before {color: black;}#sk-container-id-1 div.sk-estimator:hover label.sk-toggleable__label-arrow:before {color: black;}#sk-container-id-1 div.sk-toggleable__content {max-height: 0;max-width: 0;overflow: hidden;text-align: left;background-color: #f0f8ff;}#sk-container-id-1 div.sk-toggleable__content pre {margin: 0.2em;color: black;border-radius: 0.25em;background-color: #f0f8ff;}#sk-container-id-1 input.sk-toggleable__control:checked~div.sk-toggleable__content {max-height: 200px;max-width: 100%;overflow: auto;}#sk-container-id-1 input.sk-toggleable__control:checked~label.sk-toggleable__label-arrow:before {content: \"▾\";}#sk-container-id-1 div.sk-estimator input.sk-toggleable__control:checked~label.sk-toggleable__label {background-color: #d4ebff;}#sk-container-id-1 div.sk-label input.sk-toggleable__control:checked~label.sk-toggleable__label {background-color: #d4ebff;}#sk-container-id-1 input.sk-hidden--visually {border: 0;clip: rect(1px 1px 1px 1px);clip: rect(1px, 1px, 1px, 1px);height: 1px;margin: -1px;overflow: hidden;padding: 0;position: absolute;width: 1px;}#sk-container-id-1 div.sk-estimator {font-family: monospace;background-color: #f0f8ff;border: 1px dotted black;border-radius: 0.25em;box-sizing: border-box;margin-bottom: 0.5em;}#sk-container-id-1 div.sk-estimator:hover {background-color: #d4ebff;}#sk-container-id-1 div.sk-parallel-item::after {content: \"\";width: 100%;border-bottom: 1px solid gray;flex-grow: 1;}#sk-container-id-1 div.sk-label:hover label.sk-toggleable__label {background-color: #d4ebff;}#sk-container-id-1 div.sk-serial::before {content: \"\";position: absolute;border-left: 1px solid gray;box-sizing: border-box;top: 0;bottom: 0;left: 50%;z-index: 0;}#sk-container-id-1 div.sk-serial {display: flex;flex-direction: column;align-items: center;background-color: white;padding-right: 0.2em;padding-left: 0.2em;position: relative;}#sk-container-id-1 div.sk-item {position: relative;z-index: 1;}#sk-container-id-1 div.sk-parallel {display: flex;align-items: stretch;justify-content: center;background-color: white;position: relative;}#sk-container-id-1 div.sk-item::before, #sk-container-id-1 div.sk-parallel-item::before {content: \"\";position: absolute;border-left: 1px solid gray;box-sizing: border-box;top: 0;bottom: 0;left: 50%;z-index: -1;}#sk-container-id-1 div.sk-parallel-item {display: flex;flex-direction: column;z-index: 1;position: relative;background-color: white;}#sk-container-id-1 div.sk-parallel-item:first-child::after {align-self: flex-end;width: 50%;}#sk-container-id-1 div.sk-parallel-item:last-child::after {align-self: flex-start;width: 50%;}#sk-container-id-1 div.sk-parallel-item:only-child::after {width: 0;}#sk-container-id-1 div.sk-dashed-wrapped {border: 1px dashed gray;margin: 0 0.4em 0.5em 0.4em;box-sizing: border-box;padding-bottom: 0.4em;background-color: white;}#sk-container-id-1 div.sk-label label {font-family: monospace;font-weight: bold;display: inline-block;line-height: 1.2em;}#sk-container-id-1 div.sk-label-container {text-align: center;}#sk-container-id-1 div.sk-container {/* jupyter's `normalize.less` sets `[hidden] { display: none; }` but bootstrap.min.css set `[hidden] { display: none !important; }` so we also need the `!important` here to be able to override the default hidden behavior on the sphinx rendered scikit-learn.org. See: https://github.com/scikit-learn/scikit-learn/issues/21755 */display: inline-block !important;position: relative;}#sk-container-id-1 div.sk-text-repr-fallback {display: none;}</style><div id=\"sk-container-id-1\" class=\"sk-top-container\"><div class=\"sk-text-repr-fallback\"><pre>SVC(kernel=&#x27;linear&#x27;)</pre><b>In a Jupyter environment, please rerun this cell to show the HTML representation or trust the notebook. <br />On GitHub, the HTML representation is unable to render, please try loading this page with nbviewer.org.</b></div><div class=\"sk-container\" hidden><div class=\"sk-item\"><div class=\"sk-estimator sk-toggleable\"><input class=\"sk-toggleable__control sk-hidden--visually\" id=\"sk-estimator-id-1\" type=\"checkbox\" checked><label for=\"sk-estimator-id-1\" class=\"sk-toggleable__label sk-toggleable__label-arrow\">SVC</label><div class=\"sk-toggleable__content\"><pre>SVC(kernel=&#x27;linear&#x27;)</pre></div></div></div></div></div>"
      ],
      "text/plain": [
       "SVC(kernel='linear')"
      ]
     },
     "execution_count": 37,
     "metadata": {},
     "output_type": "execute_result"
    }
   ],
   "source": [
    "s_v_m= svm.SVC(kernel=\"linear\")\n",
    "s_v_m.fit(x_train,y_train)"
   ]
  },
  {
   "cell_type": "code",
   "execution_count": 38,
   "id": "93bb08f0-28fe-478f-92cb-f2ddd7f63c96",
   "metadata": {},
   "outputs": [
    {
     "name": "stdout",
     "output_type": "stream",
     "text": [
      "Accuracy score of svm training data is 0.8211382113821138\n"
     ]
    }
   ],
   "source": [
    "predict_svm_train= s_v_m.predict(x_train)\n",
    "accuracy_svm_train= accuracy_score(y_train,predict_svm_train)\n",
    "print(\"Accuracy score of svm training data is\",accuracy_svm_train)"
   ]
  },
  {
   "cell_type": "code",
   "execution_count": 39,
   "id": "7f5f6093-e185-4ab5-a95e-0b8a1a34c4bc",
   "metadata": {},
   "outputs": [
    {
     "name": "stdout",
     "output_type": "stream",
     "text": [
      "Accuracy score of svm testing data is 0.8225806451612904\n"
     ]
    }
   ],
   "source": [
    "predict_svm_test=s_v_m.predict(x_test)\n",
    "accuracy_svm_test= accuracy_score(y_test,predict_svm_test)\n",
    "print(\"Accuracy score of svm testing data is\",accuracy_svm_test)"
   ]
  },
  {
   "cell_type": "code",
   "execution_count": 27,
   "id": "79cc002f-76e9-49a7-861a-7568a4e6d740",
   "metadata": {},
   "outputs": [
    {
     "data": {
      "text/html": [
       "<style>#sk-container-id-1 {color: black;}#sk-container-id-1 pre{padding: 0;}#sk-container-id-1 div.sk-toggleable {background-color: white;}#sk-container-id-1 label.sk-toggleable__label {cursor: pointer;display: block;width: 100%;margin-bottom: 0;padding: 0.3em;box-sizing: border-box;text-align: center;}#sk-container-id-1 label.sk-toggleable__label-arrow:before {content: \"▸\";float: left;margin-right: 0.25em;color: #696969;}#sk-container-id-1 label.sk-toggleable__label-arrow:hover:before {color: black;}#sk-container-id-1 div.sk-estimator:hover label.sk-toggleable__label-arrow:before {color: black;}#sk-container-id-1 div.sk-toggleable__content {max-height: 0;max-width: 0;overflow: hidden;text-align: left;background-color: #f0f8ff;}#sk-container-id-1 div.sk-toggleable__content pre {margin: 0.2em;color: black;border-radius: 0.25em;background-color: #f0f8ff;}#sk-container-id-1 input.sk-toggleable__control:checked~div.sk-toggleable__content {max-height: 200px;max-width: 100%;overflow: auto;}#sk-container-id-1 input.sk-toggleable__control:checked~label.sk-toggleable__label-arrow:before {content: \"▾\";}#sk-container-id-1 div.sk-estimator input.sk-toggleable__control:checked~label.sk-toggleable__label {background-color: #d4ebff;}#sk-container-id-1 div.sk-label input.sk-toggleable__control:checked~label.sk-toggleable__label {background-color: #d4ebff;}#sk-container-id-1 input.sk-hidden--visually {border: 0;clip: rect(1px 1px 1px 1px);clip: rect(1px, 1px, 1px, 1px);height: 1px;margin: -1px;overflow: hidden;padding: 0;position: absolute;width: 1px;}#sk-container-id-1 div.sk-estimator {font-family: monospace;background-color: #f0f8ff;border: 1px dotted black;border-radius: 0.25em;box-sizing: border-box;margin-bottom: 0.5em;}#sk-container-id-1 div.sk-estimator:hover {background-color: #d4ebff;}#sk-container-id-1 div.sk-parallel-item::after {content: \"\";width: 100%;border-bottom: 1px solid gray;flex-grow: 1;}#sk-container-id-1 div.sk-label:hover label.sk-toggleable__label {background-color: #d4ebff;}#sk-container-id-1 div.sk-serial::before {content: \"\";position: absolute;border-left: 1px solid gray;box-sizing: border-box;top: 0;bottom: 0;left: 50%;z-index: 0;}#sk-container-id-1 div.sk-serial {display: flex;flex-direction: column;align-items: center;background-color: white;padding-right: 0.2em;padding-left: 0.2em;position: relative;}#sk-container-id-1 div.sk-item {position: relative;z-index: 1;}#sk-container-id-1 div.sk-parallel {display: flex;align-items: stretch;justify-content: center;background-color: white;position: relative;}#sk-container-id-1 div.sk-item::before, #sk-container-id-1 div.sk-parallel-item::before {content: \"\";position: absolute;border-left: 1px solid gray;box-sizing: border-box;top: 0;bottom: 0;left: 50%;z-index: -1;}#sk-container-id-1 div.sk-parallel-item {display: flex;flex-direction: column;z-index: 1;position: relative;background-color: white;}#sk-container-id-1 div.sk-parallel-item:first-child::after {align-self: flex-end;width: 50%;}#sk-container-id-1 div.sk-parallel-item:last-child::after {align-self: flex-start;width: 50%;}#sk-container-id-1 div.sk-parallel-item:only-child::after {width: 0;}#sk-container-id-1 div.sk-dashed-wrapped {border: 1px dashed gray;margin: 0 0.4em 0.5em 0.4em;box-sizing: border-box;padding-bottom: 0.4em;background-color: white;}#sk-container-id-1 div.sk-label label {font-family: monospace;font-weight: bold;display: inline-block;line-height: 1.2em;}#sk-container-id-1 div.sk-label-container {text-align: center;}#sk-container-id-1 div.sk-container {/* jupyter's `normalize.less` sets `[hidden] { display: none; }` but bootstrap.min.css set `[hidden] { display: none !important; }` so we also need the `!important` here to be able to override the default hidden behavior on the sphinx rendered scikit-learn.org. See: https://github.com/scikit-learn/scikit-learn/issues/21755 */display: inline-block !important;position: relative;}#sk-container-id-1 div.sk-text-repr-fallback {display: none;}</style><div id=\"sk-container-id-1\" class=\"sk-top-container\"><div class=\"sk-text-repr-fallback\"><pre>LogisticRegression(max_iter=10000)</pre><b>In a Jupyter environment, please rerun this cell to show the HTML representation or trust the notebook. <br />On GitHub, the HTML representation is unable to render, please try loading this page with nbviewer.org.</b></div><div class=\"sk-container\" hidden><div class=\"sk-item\"><div class=\"sk-estimator sk-toggleable\"><input class=\"sk-toggleable__control sk-hidden--visually\" id=\"sk-estimator-id-1\" type=\"checkbox\" checked><label for=\"sk-estimator-id-1\" class=\"sk-toggleable__label sk-toggleable__label-arrow\">LogisticRegression</label><div class=\"sk-toggleable__content\"><pre>LogisticRegression(max_iter=10000)</pre></div></div></div></div></div>"
      ],
      "text/plain": [
       "LogisticRegression(max_iter=10000)"
      ]
     },
     "execution_count": 27,
     "metadata": {},
     "output_type": "execute_result"
    }
   ],
   "source": [
    "logistic= LogisticRegression(max_iter=10000)\n",
    "logistic.fit(x_train,y_train)"
   ]
  },
  {
   "cell_type": "code",
   "execution_count": 28,
   "id": "52d84fd5-bb1e-4970-9e78-961e2416a52b",
   "metadata": {},
   "outputs": [
    {
     "name": "stdout",
     "output_type": "stream",
     "text": [
      "Accuracy score of logistic regression training data is 0.8373983739837398\n"
     ]
    }
   ],
   "source": [
    "predict_log_train= logistic.predict(x_train)\n",
    "accuracy_log_train= accuracy_score(y_train,predict_log_train)\n",
    "print(\"Accuracy score of logistic regression training data is\",accuracy_log_train)"
   ]
  },
  {
   "cell_type": "code",
   "execution_count": 29,
   "id": "aab97295-19e1-451b-af9d-80273416ab27",
   "metadata": {},
   "outputs": [
    {
     "name": "stdout",
     "output_type": "stream",
     "text": [
      "Accuracy score of logistic regression in testing data is 0.8387096774193549\n"
     ]
    }
   ],
   "source": [
    "predict_log_test=logistic.predict(x_test)\n",
    "accuracy_log_test= accuracy_score(y_test,predict_log_test)\n",
    "print(\"Accuracy score of logistic regression in testing data is\",accuracy_log_test)"
   ]
  },
  {
   "cell_type": "code",
   "execution_count": 32,
   "id": "c1e212c6-ea51-4d23-8136-683c23a9a53b",
   "metadata": {},
   "outputs": [],
   "source": [
    "models= [\"Logistic Regression\",\"Support Vector Machine\"]\n",
    "test_accuracies= [0.8387,0.8225]"
   ]
  },
  {
   "cell_type": "code",
   "execution_count": 34,
   "id": "a8cf66e6-47b9-4823-9209-9f684447a2dc",
   "metadata": {},
   "outputs": [
    {
     "data": {
      "text/plain": [
       "(0.75, 0.9)"
      ]
     },
     "execution_count": 34,
     "metadata": {},
     "output_type": "execute_result"
    },
    {
     "data": {
      "image/png": "[encoded data removed]",
      "text/plain": [
       "<Figure size 640x480 with 1 Axes>"
      ]
     },
     "metadata": {},
     "output_type": "display_data"
    }
   ],
   "source": [
    "plt.bar(models, test_accuracies, color='skyblue')\n",
    "plt.title('Model Accuracy on Testing Data')\n",
    "plt.xlabel('Model')\n",
    "plt.ylabel('Accuracy') \n",
    "plt.ylim(0.75, 0.90)"
   ]
  },
  {
   "cell_type": "code",
   "execution_count": null,
   "id": "eaba48ed-006c-4685-b124-32e3a82f17f8",
   "metadata": {},
   "outputs": [],
   "source": []
  }
 ],
 "metadata": {
  "kernelspec": {
   "display_name": "Python 3 (ipykernel)",
   "language": "python",
   "name": "python3"
  },
  "language_info": {
   "codemirror_mode": {
    "name": "ipython",
    "version": 3
   },
   "file_extension": ".py",
   "mimetype": "text/x-python",
   "name": "python",
   "nbconvert_exporter": "python",
   "pygments_lexer": "ipython3",
   "version": "3.12.0"
  }
 },
 "nbformat": 4,
 "nbformat_minor": 5
}
